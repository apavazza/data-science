{
 "cells": [
  {
   "cell_type": "markdown",
   "metadata": {
    "id": "x9GF3FNxuYOm"
   },
   "source": [
    "## Kratki pregled za Jupyter Notebook"
   ]
  },
  {
   "cell_type": "markdown",
   "metadata": {
    "id": "p4WbNqFwuYOm"
   },
   "source": [
    "Jupyter Notebook je okruženje za kodiranje temeljeno na pregledniku, koje se intenzivno koristi za izradu prototipa i interaktivni razvoj u aplikacijama za podatkovnu znanost. Jupyter Notebook je evolucija starijeg projekta koji se zove IPython Noteboook (ovo je podrijetlo ekstenzije datoteke prijenosnika “.ipynb”), i dok (kao što ime sugerira) Jupyter Notebook podržava jezike koji nisu Python, trenutno Python je daleko najčešći jezik za ove bilježnice. Opće informacije o Jupyter Notebooku i povezanim projektima mogu se pronaći na stranici [Jupyter project page](http://jupyter.org/)."
   ]
  },
  {
   "cell_type": "markdown",
   "metadata": {
    "id": "0cUCkDPeuYOn"
   },
   "source": [
    "Središnja jedinica unutar Jupyter Notebooka su \"ćelije\". Ove ćelije mogu sadržavati kod ili Markdown (jednostavan jezik za oblikovanje, koji također može uključivati stvari poput LaTeX jednadžbe). Padajući izbornik na vrhu zaslona označava vrstu trenutne ćelije.\n",
    "\n",
    "Ćelije s kodovima mogu se izvršiti pritiskom na gumb ▶❚ na vrhu bilježnice ili češće putem naredbi Shift-Enter (izvrši i prijeđi na sljedeću ćeliju) ili Control-Enter (izvrši i ostani na toj ćeliji). Sav Python kod se izvodi u jednom radnom Python okruženju, koje se zove \"Kernel\" u Jupyter bilježnici. Varijable se dijele u svim ćelijama, a kod se izvršava redoslijedom kojim se ćelije izvode (ne nužno sekvencijalno u bilježnici), što vašu bilježnicu može dovesti u prilično zbunjujuća stanja ako ćelije ne izvršavate uvijek redom.\n",
    "\n",
    "Pogledajmo nekoliko primjera."
   ]
  },
  {
   "cell_type": "code",
   "execution_count": 1,
   "metadata": {
    "colab": {
     "base_uri": "https://localhost:8080/"
    },
    "executionInfo": {
     "elapsed": 503,
     "status": "ok",
     "timestamp": 1728669397933,
     "user": {
      "displayName": "Amadeo Pavazza",
      "userId": "08243147996080666815"
     },
     "user_tz": -120
    },
    "id": "GuDxs2ItuYOo",
    "outputId": "3b40107a-1e40-42be-accb-cf6c2ba65992"
   },
   "outputs": [
    {
     "data": {
      "text/plain": [
       "3"
      ]
     },
     "execution_count": 1,
     "metadata": {},
     "output_type": "execute_result"
    }
   ],
   "source": [
    "1+2"
   ]
  },
  {
   "cell_type": "code",
   "execution_count": null,
   "metadata": {
    "id": "TWCpAnbAuYOo"
   },
   "outputs": [],
   "source": [
    "a = 1.0\n",
    "b = 2.0"
   ]
  },
  {
   "cell_type": "code",
   "execution_count": null,
   "metadata": {
    "id": "_Ajt-qf0uYOp",
    "outputId": "15aca09b-9c22-44ba-f8b3-e114f15aecb0"
   },
   "outputs": [
    {
     "name": "stdout",
     "output_type": "stream",
     "text": [
      "1.0\n"
     ]
    },
    {
     "data": {
      "text/plain": [
       "2.0"
      ]
     },
     "execution_count": 3,
     "metadata": {},
     "output_type": "execute_result"
    }
   ],
   "source": [
    "print(a)\n",
    "b"
   ]
  },
  {
   "cell_type": "code",
   "execution_count": 2,
   "metadata": {
    "colab": {
     "base_uri": "https://localhost:8080/"
    },
    "executionInfo": {
     "elapsed": 10,
     "status": "ok",
     "timestamp": 1728669398271,
     "user": {
      "displayName": "Amadeo Pavazza",
      "userId": "08243147996080666815"
     },
     "user_tz": -120
    },
    "id": "wx0frmuhuYOp",
    "outputId": "bd4a4c9e-9a20-4dc0-f279-a117e2d22c29"
   },
   "outputs": [
    {
     "name": "stdout",
     "output_type": "stream",
     "text": [
      "0\n",
      "1\n",
      "2\n",
      "3\n",
      "4\n",
      "5\n",
      "6\n",
      "7\n",
      "8\n",
      "9\n"
     ]
    }
   ],
   "source": [
    "for i in range(10):\n",
    "    print(i)"
   ]
  },
  {
   "cell_type": "markdown",
   "metadata": {
    "id": "k5BhLCdvuYOq"
   },
   "source": [
    "Sve naredbe za `print` ispisat će se u odjeljak izlaza iz ćelije, a izlaz će također sadržavati string reprezentaciju objekta koju vraća zadnji red u ćeliji. Dakle, u gornjoj postavci gdje se varijabla `b` pojavljuje u zadnjem retku ćelije, njen sadržaj se ispisuje na kraju izlaza ćelije, nakon svih prethodnih naredbi za ispis koje su se dogodile prije.\n",
    "\n",
    "Bilo koji Python kod bit će valjan u tim ćelijama, tako da možemo uvesti vanjske biblioteke, definirati klase i funkcije itd."
   ]
  },
  {
   "cell_type": "code",
   "execution_count": null,
   "metadata": {
    "id": "oL57BVTSuYOq"
   },
   "outputs": [],
   "source": [
    "import requests"
   ]
  },
  {
   "cell_type": "code",
   "execution_count": null,
   "metadata": {
    "id": "3PVw2ixFuYOr"
   },
   "outputs": [],
   "source": [
    "def square(x):\n",
    "    \"\"\"Square the input x\"\"\"\n",
    "    return x*x"
   ]
  },
  {
   "cell_type": "code",
   "execution_count": null,
   "metadata": {
    "id": "ssozOXYFuYOs",
    "outputId": "0e464a58-9b6d-4e3e-e839-17a1c915fb85"
   },
   "outputs": [
    {
     "data": {
      "text/plain": [
       "16"
      ]
     },
     "execution_count": 7,
     "metadata": {},
     "output_type": "execute_result"
    }
   ],
   "source": [
    "square(4)"
   ]
  },
  {
   "cell_type": "markdown",
   "metadata": {
    "id": "8z5qyVNtuYOs"
   },
   "source": [
    "### Cell magics\n",
    "\n",
    "Osim pokretanja Python koda, Jupyter Notebook ima neke ugrađene rutine za izvođenje operacija izvan Pythona, mjerenje vremena ili analizu izvođenja koda, itd. Ovim \"cell magics\" prethodi `%` (na početku retka ... ovo je tehnički se naziva \"linijska magija\") za single line cell magic i `%%` na početku ćelije za cell magics cjalokupne ćelije. Nećemo pokriti mnoge od njih, ali neke su vrlo korisne pa bi se bilo ok upoznati s osnovama. Puno iscrpniji popis se nalazi se ovdje: [Built-in cell magics](http://ipython.readthedocs.io/en/stable/interactive/magics.html).\n",
    "\n",
    "- Vremenske operacije s `%timeit` (za jednu liniju), `%%timeit` (za cijelu ćeliju). Ova naredba će pokrenuti liniju ili ćeliju više puta i dati prosječno vrijeme. Prilagodljiva je, tako da se operacije koje traju manje vremena izvode češće, kako bi se osigurala bolja procjena vremena izvođenja (dakle, vrijeme potrebno za izvođenje ove naredbe nije indikativno za stvarno vrijeme koje je potrebno za izvođenje kod. Ako želite samo mjeriti vrijeme jednog prolaza, koristeći `%time` ili `%%time`."
   ]
  },
  {
   "cell_type": "code",
   "execution_count": null,
   "metadata": {
    "id": "XlfhAPuQuYOt",
    "outputId": "8bc16fa9-9c98-4964-9ffc-2f766a7ec46c"
   },
   "outputs": [
    {
     "name": "stdout",
     "output_type": "stream",
     "text": [
      "CPU times: total: 0 ns\n",
      "Wall time: 0 ns\n"
     ]
    },
    {
     "data": {
      "text/plain": [
       "333283335000"
      ]
     },
     "execution_count": 8,
     "metadata": {},
     "output_type": "execute_result"
    }
   ],
   "source": [
    "%time sum(x**2 for x in range(10000))"
   ]
  },
  {
   "cell_type": "markdown",
   "metadata": {
    "id": "UGbFQKonuYOt"
   },
   "source": [
    "- Izvršite bash naredbe s `%%bash`. Koristite ovo vrlo umjereno."
   ]
  },
  {
   "cell_type": "code",
   "execution_count": 4,
   "metadata": {
    "id": "hhxrc4ytuYOt",
    "outputId": "ff516cae-c5bd-4476-ce67-bfc986213bdf"
   },
   "outputs": [
    {
     "name": "stdout",
     "output_type": "stream",
     "text": [
      " Volume in drive C has no label.\n",
      " Volume Serial Number is 3856-6FB8\n",
      "\n",
      " Directory of c:\\Users\\Amadeo\\source\\repos\\data-science\\lab1\n",
      "\n",
      "05/01/2025  11:11    <DIR>          .\n",
      "05/01/2025  11:12    <DIR>          ..\n",
      "11/10/2024  19:09            73,449 lab0.ipynb\n",
      "               1 File(s)         73,449 bytes\n",
      "               2 Dir(s)  132,431,237,120 bytes free\n"
     ]
    }
   ],
   "source": [
    "# %%bash\n",
    "# ls\n",
    "!dir"
   ]
  },
  {
   "cell_type": "markdown",
   "metadata": {
    "id": "VY48mAXCuRa-"
   },
   "source": [
    "# Uvod u Python\n",
    "\n",
    "Python je moćan interpretirani jezik visoke razine."
   ]
  },
  {
   "cell_type": "markdown",
   "metadata": {
    "id": "qgtLgu0-uplS"
   },
   "source": [
    "## Varijable"
   ]
  },
  {
   "cell_type": "markdown",
   "metadata": {
    "id": "aJ0yODE9dpV6"
   },
   "source": [
    "Cijeli brojevi"
   ]
  },
  {
   "cell_type": "code",
   "execution_count": 3,
   "metadata": {
    "colab": {
     "base_uri": "https://localhost:8080/"
    },
    "executionInfo": {
     "elapsed": 2,
     "status": "ok",
     "timestamp": 1728669404281,
     "user": {
      "displayName": "Amadeo Pavazza",
      "userId": "08243147996080666815"
     },
     "user_tz": -120
    },
    "id": "EJ4tZ5gYdrOv",
    "outputId": "d1f53c7a-891b-4714-ba99-9d2ed9fdb6e9"
   },
   "outputs": [
    {
     "name": "stdout",
     "output_type": "stream",
     "text": [
      "Sum, difference, division: 3 -1 0\n"
     ]
    }
   ],
   "source": [
    "a = 1\n",
    "b = 2\n",
    "print(\"Sum, difference, division:\", a + b, a - b, a // b)"
   ]
  },
  {
   "cell_type": "markdown",
   "metadata": {
    "id": "ZPpnUzuudus2"
   },
   "source": [
    "Brojevi s pomičnim zarezom"
   ]
  },
  {
   "cell_type": "code",
   "execution_count": null,
   "metadata": {
    "id": "oRM7cXildxrf",
    "outputId": "9c74bfdb-5a12-48c8-82fa-8b0c144e02b8"
   },
   "outputs": [
    {
     "name": "stdout",
     "output_type": "stream",
     "text": [
      "Brojevi s pomičnim zarezom: 0.5\n"
     ]
    }
   ],
   "source": [
    "print(\"Brojevi s pomičnim zarezom:\", 1.0 / 2.0)"
   ]
  },
  {
   "cell_type": "markdown",
   "metadata": {
    "id": "Q6IzYW72d2Na"
   },
   "source": [
    "Kompleksni brojevi"
   ]
  },
  {
   "cell_type": "code",
   "execution_count": null,
   "metadata": {
    "id": "3ooBQ-HAd4R-",
    "outputId": "bddd3bc8-f8ad-48b4-b0b4-8db0f621120b"
   },
   "outputs": [
    {
     "name": "stdout",
     "output_type": "stream",
     "text": [
      "Kompleksni brojevi: (1+1j)\n"
     ]
    }
   ],
   "source": [
    "print(\"Kompleksni brojevi:\", 1.0 + 1.0j)"
   ]
  },
  {
   "cell_type": "markdown",
   "metadata": {
    "id": "aRtsNkxLd7AB"
   },
   "source": [
    "Booleans"
   ]
  },
  {
   "cell_type": "code",
   "execution_count": null,
   "metadata": {
    "id": "mzvtZ2RceARU",
    "outputId": "762f5dce-f0e5-49fd-e52c-999fe028ac08"
   },
   "outputs": [
    {
     "name": "stdout",
     "output_type": "stream",
     "text": [
      "Boolean operations: True False False\n"
     ]
    }
   ],
   "source": [
    "a = True\n",
    "b = False\n",
    "print(\"Boolean operations:\", a or b, a and b, not a)"
   ]
  },
  {
   "cell_type": "markdown",
   "metadata": {
    "id": "uVzLWAp7eCch"
   },
   "source": [
    "Stringovi"
   ]
  },
  {
   "cell_type": "code",
   "execution_count": null,
   "metadata": {
    "id": "jx9zZkzSeHH1",
    "outputId": "bd381a15-00bd-4660-8afa-428aa66f2d75"
   },
   "outputs": [
    {
     "name": "stdout",
     "output_type": "stream",
     "text": [
      "String: Ovo je string u Pythonu\n"
     ]
    }
   ],
   "source": [
    "a = \"Ovo je string u Pythonu\"\n",
    "print(\"String:\", a)"
   ]
  },
  {
   "cell_type": "markdown",
   "metadata": {
    "id": "kgTGxeOFeLd1"
   },
   "source": [
    "Mogu se upotrebljavati i jednostruki navodnici"
   ]
  },
  {
   "cell_type": "code",
   "execution_count": null,
   "metadata": {
    "id": "EkSoAMuJeIlX",
    "outputId": "04b68a21-a4d6-47a1-d840-f821b93c6cea"
   },
   "outputs": [
    {
     "data": {
      "text/plain": [
       "'Ovo je takodjer string'"
      ]
     },
     "execution_count": 15,
     "metadata": {},
     "output_type": "execute_result"
    }
   ],
   "source": [
    "a = 'Ovo je takodjer string'\n",
    "a"
   ]
  },
  {
   "cell_type": "markdown",
   "metadata": {
    "id": "IvlWLUGLePla"
   },
   "source": [
    "Dugačak string se može razdijeliti na sljedeći način"
   ]
  },
  {
   "cell_type": "code",
   "execution_count": null,
   "metadata": {
    "id": "Kv_M49fpeS0E",
    "outputId": "ab822592-0ff9-4eb7-fdf7-a795a77d45c6"
   },
   "outputs": [
    {
     "data": {
      "text/plain": [
       "'Veoma Veoma Veoma dugacak dugacak dugacak string u Pythonu'"
      ]
     },
     "execution_count": 16,
     "metadata": {},
     "output_type": "execute_result"
    }
   ],
   "source": [
    "a = (\"Veoma Veoma Veoma \"\n",
    "     \"dugacak dugacak dugacak \"\n",
    "     \"string u Pythonu\"\n",
    "    )\n",
    "a"
   ]
  },
  {
   "cell_type": "markdown",
   "metadata": {
    "id": "-_UfrpwQeXi4"
   },
   "source": [
    "Ili uspotrebljavajte multiline string"
   ]
  },
  {
   "cell_type": "code",
   "execution_count": null,
   "metadata": {
    "id": "uAMadNw5eZQ7",
    "outputId": "56b9d267-5159-4cdb-fee2-fe66d83ffdef"
   },
   "outputs": [
    {
     "data": {
      "text/plain": [
       "'ovo\\nje\\nmultiline \\nstring'"
      ]
     },
     "execution_count": 17,
     "metadata": {},
     "output_type": "execute_result"
    }
   ],
   "source": [
    "a = \"\"\"ovo\n",
    "je\n",
    "multiline\n",
    "string\"\"\"\n",
    "a"
   ]
  },
  {
   "cell_type": "markdown",
   "metadata": {
    "id": "OJXyqzJ_ehNm"
   },
   "source": [
    "Konkatenacija Stringa"
   ]
  },
  {
   "cell_type": "code",
   "execution_count": null,
   "metadata": {
    "id": "wxNX3yCOejzb",
    "outputId": "e1f1bd18-0f68-4094-88e2-8f1420745d19"
   },
   "outputs": [
    {
     "data": {
      "text/plain": [
       "'string'"
      ]
     },
     "execution_count": 18,
     "metadata": {},
     "output_type": "execute_result"
    }
   ],
   "source": [
    "\"str\" + \"ing\""
   ]
  },
  {
   "cell_type": "markdown",
   "metadata": {
    "id": "gyJYt_dJepTs"
   },
   "source": [
    "Jedna od korisnih string metoda:"
   ]
  },
  {
   "cell_type": "code",
   "execution_count": null,
   "metadata": {
    "id": "TfkggKXletFA",
    "outputId": "2853498e-d0a1-438c-9948-de77ee307051"
   },
   "outputs": [
    {
     "name": "stdout",
     "output_type": "stream",
     "text": [
      "True\n"
     ]
    }
   ],
   "source": [
    "print(\"string\".startswith(\"str\"))"
   ]
  },
  {
   "cell_type": "markdown",
   "metadata": {
    "id": "vtQDPYB-fY7x"
   },
   "source": [
    "Testirajte sljedeće metode: `.endswith`, `.join`, `.capitalize`"
   ]
  },
  {
   "cell_type": "code",
   "execution_count": null,
   "metadata": {
    "id": "wMNtNPuEuYOy",
    "outputId": "3205c885-f4c7-4e6a-bbcc-90957650cacf"
   },
   "outputs": [
    {
     "name": "stdout",
     "output_type": "stream",
     "text": [
      "False\n",
      "sstringtstringr\n",
      "String\n"
     ]
    }
   ],
   "source": [
    "print(\"string\".endswith(\"str\"))\n",
    "print(\"string\".join(\"str\"))\n",
    "print(\"string\".capitalize())"
   ]
  },
  {
   "cell_type": "markdown",
   "metadata": {
    "id": "rWnykIjkfhly"
   },
   "source": [
    "String formatting"
   ]
  },
  {
   "cell_type": "code",
   "execution_count": null,
   "metadata": {
    "id": "PToq0omNflP2",
    "outputId": "0a467c0e-4fbf-42a4-e912-0fbac1f473ad"
   },
   "outputs": [
    {
     "data": {
      "text/plain": [
       "'This is a number 10, this is another number 20!'"
      ]
     },
     "execution_count": 22,
     "metadata": {},
     "output_type": "execute_result"
    }
   ],
   "source": [
    "\"This is a number {}, this is another number {}!\".format(10, 20)"
   ]
  },
  {
   "cell_type": "markdown",
   "metadata": {
    "id": "WgYzAHHSf00K"
   },
   "source": [
    "Moguće je specificirati kako je broj formatiran"
   ]
  },
  {
   "cell_type": "code",
   "execution_count": null,
   "metadata": {
    "id": "zGGlXdZQuKnG",
    "outputId": "02fe2da1-1368-48bd-e28a-9326ac1e4506"
   },
   "outputs": [
    {
     "data": {
      "text/plain": [
       "'This is pi 3.14!'"
      ]
     },
     "execution_count": 23,
     "metadata": {},
     "output_type": "execute_result"
    }
   ],
   "source": [
    "\"This is pi {:0.2f}!\".format(3.1415)"
   ]
  },
  {
   "cell_type": "markdown",
   "metadata": {
    "id": "e2UqKCEDf4n9"
   },
   "source": [
    "Format stringovi izgledaju ovako:"
   ]
  },
  {
   "cell_type": "code",
   "execution_count": null,
   "metadata": {
    "id": "vao_Xk17f_BP",
    "outputId": "83122f1d-8437-4d70-b5d2-5b69d842291c"
   },
   "outputs": [
    {
     "data": {
      "text/plain": [
       "'This is sum of 2 and 3: 5'"
      ]
     },
     "execution_count": 24,
     "metadata": {},
     "output_type": "execute_result"
    }
   ],
   "source": [
    "f\"This is sum of 2 and 3: {2 + 3}\""
   ]
  },
  {
   "cell_type": "markdown",
   "metadata": {
    "id": "yDBje-obvc9B"
   },
   "source": [
    "## Jednostavne data strukture: lists, maps, sets, tuples\n",
    "\n",
    "Liste are zamišljenje za pohranjivanje vrijednosti u nizu."
   ]
  },
  {
   "cell_type": "markdown",
   "metadata": {
    "id": "qZp9Hx-9hIRC"
   },
   "source": [
    "### Liste"
   ]
  },
  {
   "cell_type": "code",
   "execution_count": null,
   "metadata": {
    "id": "iEO10YjSgEiP",
    "outputId": "21d922d4-a50a-4032-90a9-ebf63f8daba8"
   },
   "outputs": [
    {
     "data": {
      "text/plain": [
       "[1, 4, 2, 3, 8, 7, 6, 5]"
      ]
     },
     "execution_count": 25,
     "metadata": {},
     "output_type": "execute_result"
    }
   ],
   "source": [
    "array = [1, 4, 2, 3, 8, 7, 6, 5]\n",
    "array"
   ]
  },
  {
   "cell_type": "code",
   "execution_count": null,
   "metadata": {
    "id": "vTBtlmzlgQUN",
    "outputId": "efa46a84-e657-4d7e-841a-9b37677afc1c"
   },
   "outputs": [
    {
     "data": {
      "text/plain": [
       "1"
      ]
     },
     "execution_count": 26,
     "metadata": {},
     "output_type": "execute_result"
    }
   ],
   "source": [
    "array[0]"
   ]
  },
  {
   "cell_type": "code",
   "execution_count": null,
   "metadata": {
    "id": "tBZ0HPHLgeDc",
    "outputId": "5b96dddb-3f0a-45dc-b50a-7f23c89a157b"
   },
   "outputs": [
    {
     "data": {
      "text/plain": [
       "[4, 2, 3, 8]"
      ]
     },
     "execution_count": 27,
     "metadata": {},
     "output_type": "execute_result"
    }
   ],
   "source": [
    "array[1:5]"
   ]
  },
  {
   "cell_type": "code",
   "execution_count": null,
   "metadata": {
    "id": "0FU3YcmKgmWG",
    "outputId": "9261897b-8bd9-4054-c3a6-0cb4a6e559d3"
   },
   "outputs": [
    {
     "data": {
      "text/plain": [
       "[1, 4, 2, 3, 8]"
      ]
     },
     "execution_count": 28,
     "metadata": {},
     "output_type": "execute_result"
    }
   ],
   "source": [
    "array[:5]"
   ]
  },
  {
   "cell_type": "code",
   "execution_count": null,
   "metadata": {
    "id": "2ND4QRgggqbV",
    "outputId": "06f6e67f-e208-4275-8cf9-5a5d03fa1a11"
   },
   "outputs": [
    {
     "data": {
      "text/plain": [
       "[7, 6, 5]"
      ]
     },
     "execution_count": 29,
     "metadata": {},
     "output_type": "execute_result"
    }
   ],
   "source": [
    "array[5:]"
   ]
  },
  {
   "cell_type": "code",
   "execution_count": null,
   "metadata": {
    "id": "8AU5C2aZgxs-",
    "outputId": "39ba608a-1e27-4029-9372-f07c4d1ab44b"
   },
   "outputs": [
    {
     "data": {
      "text/plain": [
       "[2, 8, 6]"
      ]
     },
     "execution_count": 30,
     "metadata": {},
     "output_type": "execute_result"
    }
   ],
   "source": [
    "array[2:7:2]"
   ]
  },
  {
   "cell_type": "markdown",
   "metadata": {
    "id": "UFoYM9Vtg33H"
   },
   "source": [
    "Liste mogu sadržavati vrijednosti različitih tipova"
   ]
  },
  {
   "cell_type": "code",
   "execution_count": null,
   "metadata": {
    "id": "sgHBH0SAvcYB",
    "outputId": "bab51dfd-0c20-4a38-de05-7f9ae6af1765"
   },
   "outputs": [
    {
     "data": {
      "text/plain": [
       "[1, 1e-08, 'Hello']"
      ]
     },
     "execution_count": 31,
     "metadata": {},
     "output_type": "execute_result"
    }
   ],
   "source": [
    "[1, 1e-8, \"Hello\"]"
   ]
  },
  {
   "cell_type": "markdown",
   "metadata": {
    "id": "SPP1Cyajwpfa"
   },
   "source": [
    "### Mape\n",
    "Mape (riječnici) mogu pohraniti odnose između parova vrijednosti"
   ]
  },
  {
   "cell_type": "code",
   "execution_count": null,
   "metadata": {
    "id": "E9B-8IZ2hVJo",
    "outputId": "df60f078-8db9-4ded-b908-e314feab2596"
   },
   "outputs": [
    {
     "data": {
      "text/plain": [
       "{'height': 100.0, 'width': 20.0, 'depth': 10.0}"
      ]
     },
     "execution_count": 32,
     "metadata": {},
     "output_type": "execute_result"
    }
   ],
   "source": [
    "m = {\"height\": 100.,\n",
    "     \"width\": 20.,\n",
    "     \"depth\": 10.}\n",
    "m"
   ]
  },
  {
   "cell_type": "markdown",
   "metadata": {
    "id": "_sJCy0_chf3h"
   },
   "source": [
    "Dohvaćanje vrijednosti po key-u"
   ]
  },
  {
   "cell_type": "code",
   "execution_count": null,
   "metadata": {
    "id": "RyqblTcihk4i",
    "outputId": "c2f0c8cb-4a40-4930-ac77-dab277c240d2"
   },
   "outputs": [
    {
     "data": {
      "text/plain": [
       "20.0"
      ]
     },
     "execution_count": 33,
     "metadata": {},
     "output_type": "execute_result"
    }
   ],
   "source": [
    "m[\"width\"]"
   ]
  },
  {
   "cell_type": "markdown",
   "metadata": {
    "id": "GaRxKo1qhmca"
   },
   "source": [
    "Provjera sadrži li mapa key"
   ]
  },
  {
   "cell_type": "code",
   "execution_count": null,
   "metadata": {
    "id": "WqOa9VOZh1OA",
    "outputId": "32f0fa79-dd6a-4392-de57-693bce33a382"
   },
   "outputs": [
    {
     "data": {
      "text/plain": [
       "False"
      ]
     },
     "execution_count": 34,
     "metadata": {},
     "output_type": "execute_result"
    }
   ],
   "source": [
    "\"name\" in m"
   ]
  },
  {
   "cell_type": "markdown",
   "metadata": {
    "id": "s5Zeyapsh6Go"
   },
   "source": [
    "Dodavanje nove key-value para"
   ]
  },
  {
   "cell_type": "code",
   "execution_count": null,
   "metadata": {
    "id": "O7iSJmrah-C1"
   },
   "outputs": [],
   "source": [
    "m[\"name\"] = \"rectangle\""
   ]
  },
  {
   "cell_type": "markdown",
   "metadata": {
    "id": "ILJJI_GFiBOy"
   },
   "source": [
    "Ili zamijeniti postojeći"
   ]
  },
  {
   "cell_type": "code",
   "execution_count": null,
   "metadata": {
    "id": "PMGZPVR3iDcN"
   },
   "outputs": [],
   "source": [
    "m[\"name\"] = \"RECTANGLE\""
   ]
  },
  {
   "cell_type": "markdown",
   "metadata": {
    "id": "0R5Wm0sFiFlp"
   },
   "source": [
    "Izbrisati key/vrijednost"
   ]
  },
  {
   "cell_type": "code",
   "execution_count": null,
   "metadata": {
    "id": "-cMBVYYEiHNT",
    "outputId": "91111a0b-0a33-4ee6-fa1a-959e25fc635c"
   },
   "outputs": [
    {
     "data": {
      "text/plain": [
       "'RECTANGLE'"
      ]
     },
     "execution_count": 37,
     "metadata": {},
     "output_type": "execute_result"
    }
   ],
   "source": [
    "m.pop(\"name\")"
   ]
  },
  {
   "cell_type": "markdown",
   "metadata": {
    "id": "kdYzR2X0zWNE"
   },
   "source": [
    "### Tuples\n",
    "Tuples su slične listama, ali su nepromjenjivi -- ne mogu se mijenjati"
   ]
  },
  {
   "cell_type": "code",
   "execution_count": null,
   "metadata": {
    "id": "yJSXyvBqzBnc",
    "outputId": "94a0dc76-3aac-4196-bfe8-1beaa9675fd3"
   },
   "outputs": [
    {
     "ename": "TypeError",
     "evalue": "'tuple' object does not support item assignment",
     "output_type": "error",
     "traceback": [
      "\u001b[1;31m---------------------------------------------------------------------------\u001b[0m",
      "\u001b[1;31mTypeError\u001b[0m                                 Traceback (most recent call last)",
      "Cell \u001b[1;32mIn[38], line 8\u001b[0m\n\u001b[0;32m      5\u001b[0m my_array[\u001b[38;5;241m0\u001b[39m] \u001b[38;5;241m=\u001b[39m \u001b[38;5;241m100\u001b[39m\n\u001b[0;32m      7\u001b[0m \u001b[38;5;66;03m# This will raise an exception\u001b[39;00m\n\u001b[1;32m----> 8\u001b[0m \u001b[43mmy_tuple\u001b[49m\u001b[43m[\u001b[49m\u001b[38;5;241;43m0\u001b[39;49m\u001b[43m]\u001b[49m \u001b[38;5;241m=\u001b[39m \u001b[38;5;241m100\u001b[39m\n",
      "\u001b[1;31mTypeError\u001b[0m: 'tuple' object does not support item assignment"
     ]
    }
   ],
   "source": [
    "my_array = [1, 2, 3]\n",
    "my_tuple = (1, 2, 3)\n",
    "\n",
    "# This is OK\n",
    "my_array[0] = 100\n",
    "\n",
    "# This will raise an exception\n",
    "my_tuple[0] = 100"
   ]
  },
  {
   "cell_type": "markdown",
   "metadata": {
    "id": "IBeeqq6u1EP9"
   },
   "source": [
    "### Sets\n",
    "Sets su neuređene zbirke koje podržavaju brzo pretraživanje, umetanje, brisanje i spajanje."
   ]
  },
  {
   "cell_type": "code",
   "execution_count": null,
   "metadata": {
    "id": "I1aeG-bFzuL1",
    "outputId": "fa440b9c-f0b4-449e-a6af-6f5a9c03a258"
   },
   "outputs": [
    {
     "data": {
      "text/plain": [
       "{'cat', 'dog', 'elephant'}"
      ]
     },
     "execution_count": 39,
     "metadata": {},
     "output_type": "execute_result"
    }
   ],
   "source": [
    "animals = {\"cat\", \"dog\", \"elephant\"}\n",
    "animals"
   ]
  },
  {
   "cell_type": "markdown",
   "metadata": {
    "id": "IKTFuoVCiU4U"
   },
   "source": [
    "Provjeri je li neki element u setu"
   ]
  },
  {
   "cell_type": "code",
   "execution_count": null,
   "metadata": {
    "id": "M2SRdoJ9iZkt",
    "outputId": "82bf5a76-e019-49a3-f55f-9292f8119d96"
   },
   "outputs": [
    {
     "data": {
      "text/plain": [
       "True"
      ]
     },
     "execution_count": 40,
     "metadata": {},
     "output_type": "execute_result"
    }
   ],
   "source": [
    "\"cat\" in animals"
   ]
  },
  {
   "cell_type": "markdown",
   "metadata": {
    "id": "IMPig3GCidQP"
   },
   "source": [
    "Operacije nad setom: union, intersection, itd."
   ]
  },
  {
   "cell_type": "code",
   "execution_count": null,
   "metadata": {
    "id": "zX06oDPPihJY",
    "outputId": "04b154a0-245d-4486-8925-723ca393be40"
   },
   "outputs": [
    {
     "data": {
      "text/plain": [
       "{'cat', 'dog', 'elephant', 'llama', 'zebra'}"
      ]
     },
     "execution_count": 41,
     "metadata": {},
     "output_type": "execute_result"
    }
   ],
   "source": [
    "animals.union({\"zebra\", \"llama\"})"
   ]
  },
  {
   "cell_type": "markdown",
   "metadata": {
    "id": "do27WDEZ1rKc"
   },
   "source": [
    "## Control flow"
   ]
  },
  {
   "cell_type": "markdown",
   "metadata": {
    "id": "ZRLfl1pTkw8w"
   },
   "source": [
    "if / elif"
   ]
  },
  {
   "cell_type": "code",
   "execution_count": null,
   "metadata": {
    "id": "6RNIP5pmk0a9",
    "outputId": "b959b303-4657-4ac9-c1d6-20a6b6189a57"
   },
   "outputs": [
    {
     "name": "stdout",
     "output_type": "stream",
     "text": [
      "a is greater than 6\n"
     ]
    }
   ],
   "source": [
    "a = int(input())\n",
    "if a > 6:\n",
    "    print(\"a is greater than 6\")\n",
    "elif a < 3:\n",
    "    print(\"a is less than 3\")\n",
    "else:\n",
    "    print(\"a is between 3 and 6\")"
   ]
  },
  {
   "cell_type": "markdown",
   "metadata": {
    "id": "iF11czrvk9Ve"
   },
   "source": [
    "Petlje"
   ]
  },
  {
   "cell_type": "code",
   "execution_count": null,
   "metadata": {
    "id": "0FKPTPIklBuR",
    "outputId": "b40dc0d1-5b15-4092-fd00-8103584c7dbc"
   },
   "outputs": [
    {
     "name": "stdout",
     "output_type": "stream",
     "text": [
      "1\n",
      "2\n",
      "3\n",
      "4\n"
     ]
    }
   ],
   "source": [
    "for i in [1, 2, 3, 4]:\n",
    "    print(i)"
   ]
  },
  {
   "cell_type": "markdown",
   "metadata": {
    "id": "ofHPwKLEuYO6"
   },
   "source": [
    "Range"
   ]
  },
  {
   "cell_type": "code",
   "execution_count": null,
   "metadata": {
    "id": "F19HGRLfuYO7",
    "outputId": "b4994170-5d65-469a-caa0-9149d5b2e216"
   },
   "outputs": [
    {
     "name": "stdout",
     "output_type": "stream",
     "text": [
      "0\n",
      "1\n",
      "2\n",
      "3\n",
      "4\n",
      "5\n",
      "6\n",
      "7\n",
      "8\n",
      "9\n",
      "1\n",
      "2\n",
      "3\n",
      "4\n",
      "5\n",
      "6\n",
      "7\n",
      "8\n",
      "9\n",
      "1\n",
      "3\n",
      "5\n",
      "7\n",
      "9\n",
      "20\n",
      "17\n",
      "14\n",
      "11\n"
     ]
    }
   ],
   "source": [
    "# Example 1:\n",
    "for i in range(10):\n",
    "    print(i)\n",
    "\n",
    "# Example 2:\n",
    "for i in range(1,10):\n",
    "    print(i)\n",
    "\n",
    "# Example 3:\n",
    "for i in range(1,10,2):\n",
    "    print(i)\n",
    "\n",
    "# Example 4:\n",
    "for i in range(20,10,-3):\n",
    "    print(i)"
   ]
  },
  {
   "cell_type": "markdown",
   "metadata": {
    "id": "5i2NRd5vuYO7"
   },
   "source": [
    "Enumerate"
   ]
  },
  {
   "cell_type": "code",
   "execution_count": null,
   "metadata": {
    "id": "xUkJmIdOuYO7",
    "outputId": "657c093f-aa2f-4d93-e61f-54eb977d0404"
   },
   "outputs": [
    {
     "name": "stdout",
     "output_type": "stream",
     "text": [
      "0 a\n",
      "1 b\n",
      "2 c\n"
     ]
    }
   ],
   "source": [
    "# https://realpython.com/python-enumerate/\n",
    "\n",
    "values = [\"a\", \"b\", \"c\"]\n",
    "\n",
    "for count, value in enumerate(values):\n",
    "    print(count, value)"
   ]
  },
  {
   "cell_type": "markdown",
   "metadata": {
    "id": "dqrNSU6cuYO7"
   },
   "source": [
    "zip"
   ]
  },
  {
   "cell_type": "code",
   "execution_count": null,
   "metadata": {
    "id": "2_r4s_BduYO7",
    "outputId": "d0a967e7-bd0a-48f1-d67a-33a9d072b7f8"
   },
   "outputs": [
    {
     "name": "stdout",
     "output_type": "stream",
     "text": [
      "Letter: a\n",
      "Number: 0\n",
      "Letter: b\n",
      "Number: 1\n",
      "Letter: c\n",
      "Number: 2\n"
     ]
    }
   ],
   "source": [
    "letters = ['a', 'b', 'c']\n",
    "numbers = [0, 1, 2]\n",
    "for l, n in zip(letters, numbers):\n",
    "    print(f'Letter: {l}')\n",
    "    print(f'Number: {n}')"
   ]
  },
  {
   "cell_type": "markdown",
   "metadata": {
    "id": "DEXi6o3KlSTw"
   },
   "source": [
    "Iteracije rječnika"
   ]
  },
  {
   "cell_type": "code",
   "execution_count": null,
   "metadata": {
    "id": "l4j34y5klVQD",
    "outputId": "2114a1dc-315e-4315-a949-bb03c9f201e2"
   },
   "outputs": [
    {
     "name": "stdout",
     "output_type": "stream",
     "text": [
      "height 100.0\n",
      "width 20.0\n",
      "depth 10.0\n"
     ]
    }
   ],
   "source": [
    "for k, v in m.items():\n",
    "    print(k, v)"
   ]
  },
  {
   "cell_type": "markdown",
   "metadata": {
    "id": "_82guvm2lb4Y"
   },
   "source": [
    "While petlja\n",
    "\n",
    "*Veoma rijetko se upotrebljava while petlja. Sljedeći primjer nije krakterističan za python!*"
   ]
  },
  {
   "cell_type": "code",
   "execution_count": null,
   "metadata": {
    "id": "_xAlRHDNlcsV",
    "outputId": "08dc9e5e-5be2-4f2c-fe50-de2f40038075"
   },
   "outputs": [
    {
     "name": "stdout",
     "output_type": "stream",
     "text": [
      "20\n"
     ]
    }
   ],
   "source": [
    "stop = False\n",
    "i = 10\n",
    "while not stop:\n",
    "    i += 1\n",
    "    if i % 10 == 0:\n",
    "        stop = True\n",
    "\n",
    "print(i)"
   ]
  },
  {
   "cell_type": "markdown",
   "metadata": {
    "id": "1XOUcES3U_7g"
   },
   "source": [
    "## List comprehensions"
   ]
  },
  {
   "cell_type": "code",
   "execution_count": null,
   "metadata": {
    "id": "Dhq_MiLruYO8",
    "outputId": "eac1169a-df57-4512-f477-fbee7a79bf43"
   },
   "outputs": [
    {
     "data": {
      "text/plain": [
       "[2, 3, 4]"
      ]
     },
     "execution_count": 49,
     "metadata": {},
     "output_type": "execute_result"
    }
   ],
   "source": [
    "i = []\n",
    "for j in [1, 2, 3]:\n",
    "    i.append(j+1)\n",
    "i"
   ]
  },
  {
   "cell_type": "code",
   "execution_count": null,
   "metadata": {
    "id": "2ii1YsF1VFQt",
    "outputId": "7cdbc885-2835-4d36-e66a-43962de6bbeb"
   },
   "outputs": [
    {
     "data": {
      "text/plain": [
       "[2, 3, 4]"
      ]
     },
     "execution_count": 50,
     "metadata": {},
     "output_type": "execute_result"
    }
   ],
   "source": [
    "[i + 1 for i in [1, 2, 3]]"
   ]
  },
  {
   "cell_type": "markdown",
   "metadata": {
    "id": "sP1oejrKVUIo"
   },
   "source": [
    "Radi i za rječnike također"
   ]
  },
  {
   "cell_type": "code",
   "execution_count": null,
   "metadata": {
    "id": "adCDsD7CVOXi",
    "outputId": "a3842f0c-aefd-4abc-b38a-894272d5889b"
   },
   "outputs": [
    {
     "data": {
      "text/plain": [
       "{'1': 2, '2': 3, '3': 4}"
      ]
     },
     "execution_count": 51,
     "metadata": {},
     "output_type": "execute_result"
    }
   ],
   "source": [
    "{str(i): i + 1 for i in [1, 2, 3]}"
   ]
  },
  {
   "cell_type": "markdown",
   "metadata": {
    "id": "Hr1sBDl6NBCt"
   },
   "source": [
    "## Funkcije"
   ]
  },
  {
   "cell_type": "markdown",
   "metadata": {
    "id": "GnLRc_CKxFsf"
   },
   "source": [
    "Definiranje funkcija"
   ]
  },
  {
   "cell_type": "code",
   "execution_count": null,
   "metadata": {
    "id": "TZJF3UL2M7fg",
    "outputId": "b76e072f-608f-42ac-fe2c-a36c1db8738c"
   },
   "outputs": [
    {
     "data": {
      "text/plain": [
       "True"
      ]
     },
     "execution_count": 52,
     "metadata": {},
     "output_type": "execute_result"
    }
   ],
   "source": [
    "def is_odd(a):\n",
    "    return a % 2 == 0\n",
    "\n",
    "is_odd(2)"
   ]
  },
  {
   "cell_type": "markdown",
   "metadata": {
    "id": "lPhb-mFxxNNp"
   },
   "source": [
    "Funkcije mogu biti definirane unutar funkcija"
   ]
  },
  {
   "cell_type": "code",
   "execution_count": null,
   "metadata": {
    "id": "VYbAIDuBxRne",
    "outputId": "8bea1285-34f9-4bf6-c2eb-26d3b7740f05"
   },
   "outputs": [
    {
     "data": {
      "text/plain": [
       "True"
      ]
     },
     "execution_count": 53,
     "metadata": {},
     "output_type": "execute_result"
    }
   ],
   "source": [
    "def is_odd(a):\n",
    "\n",
    "    def is_divisible(number, base):\n",
    "        return number % base == 0\n",
    "\n",
    "    return is_divisible(a, 2)\n",
    "\n",
    "is_odd(2)"
   ]
  },
  {
   "cell_type": "markdown",
   "metadata": {
    "id": "Hoh9vryhxckA"
   },
   "source": [
    "Možete dodijeliti predefinirane argumente."
   ]
  },
  {
   "cell_type": "code",
   "execution_count": null,
   "metadata": {
    "id": "SbjDzfrVfmF6"
   },
   "outputs": [],
   "source": [
    "def add_or_subtract(first, second, operation=\"sum\"):\n",
    "    if operation == \"sum\":\n",
    "        return first + second\n",
    "    elif operation == \"sub\":\n",
    "        return first - second\n",
    "    else:\n",
    "        print(\"Operation not permitted\")"
   ]
  },
  {
   "cell_type": "markdown",
   "metadata": {
    "id": "1Lp6YB6fxqpP"
   },
   "source": [
    "Varargs: veličina argumenta varijable"
   ]
  },
  {
   "cell_type": "code",
   "execution_count": null,
   "metadata": {
    "id": "181garp6xsKA",
    "outputId": "c9d29bc1-0095-45be-adda-dfd37ba89047"
   },
   "outputs": [
    {
     "name": "stdout",
     "output_type": "stream",
     "text": [
      "Sum of all integers up to 10 = 45\n"
     ]
    }
   ],
   "source": [
    "def sum_all(*args):\n",
    "    # args is a list of arguments\n",
    "    result = 0\n",
    "    for arg in args:\n",
    "        result += arg\n",
    "    return result\n",
    "\n",
    "# Call vararg function\n",
    "print(\"Sum of all integers up to 10 =\", sum_all(1, 2, 3, 4, 5, 6, 7, 8, 9))"
   ]
  },
  {
   "cell_type": "markdown",
   "metadata": {
    "id": "dmKKnwyox7Ai"
   },
   "source": [
    "Keyword argumenti"
   ]
  },
  {
   "cell_type": "code",
   "execution_count": null,
   "metadata": {
    "id": "WJPliTlnx92u",
    "outputId": "8a44cc5f-5ccb-4f3c-d713-8e9ca4318944"
   },
   "outputs": [
    {
     "name": "stdout",
     "output_type": "stream",
     "text": [
      "a 1\n",
      "b 2\n"
     ]
    }
   ],
   "source": [
    "def print_pairs(**kwargs):\n",
    "    # kwargs is a map\n",
    "    for k, v in kwargs.items():\n",
    "        print(k, v)\n",
    "\n",
    "print_pairs(a=1, b=2)"
   ]
  },
  {
   "cell_type": "markdown",
   "metadata": {
    "id": "51bg23Fmx-6b"
   },
   "source": [
    "Keyword-only argumenti"
   ]
  },
  {
   "cell_type": "code",
   "execution_count": null,
   "metadata": {
    "id": "RqZwL6WHyHPN",
    "outputId": "87f03368-06e3-4aeb-9ad9-87621051ae4a"
   },
   "outputs": [
    {
     "name": "stdout",
     "output_type": "stream",
     "text": [
      "Car created with speed 9 and size 3\n"
     ]
    }
   ],
   "source": [
    "def create_car(*, speed, size):\n",
    "    print(\"Car created with speed\", speed, \"and size\", size)\n",
    "\n",
    "create_car(speed=9, size=3)"
   ]
  },
  {
   "cell_type": "markdown",
   "metadata": {
    "id": "k3Y-h7EAyYhS"
   },
   "source": [
    "Funkcije kao parametri\n",
    "\n",
    "Moguće je proslijediti funkciju kao argument, pretpostavlja se da operacija ovdje predstavlja funkciju"
   ]
  },
  {
   "cell_type": "code",
   "execution_count": null,
   "metadata": {
    "id": "b_JDJT_6mrqu"
   },
   "outputs": [],
   "source": [
    "def reduce(array, operation):\n",
    "    result = 0\n",
    "    for k, v in enumerate(array):\n",
    "        if k == 0:\n",
    "            result = v\n",
    "        else:\n",
    "            result = operation(v, result)\n",
    "\n",
    "    return result"
   ]
  },
  {
   "cell_type": "markdown",
   "metadata": {
    "id": "X43dSGaQzHye"
   },
   "source": [
    "Primijenite poziv funkcije sa drugom funkciojm `add_or_subtract`\n"
   ]
  },
  {
   "cell_type": "code",
   "execution_count": null,
   "metadata": {
    "id": "6rE5TSZRzFWW",
    "outputId": "a031468d-b99b-4f72-8911-3e58e928f083"
   },
   "outputs": [
    {
     "name": "stdout",
     "output_type": "stream",
     "text": [
      "[1, 2, 3, 4, 5, 6, 7, 8, 9]\n",
      "Sum of the array\n"
     ]
    },
    {
     "data": {
      "text/plain": [
       "45"
      ]
     },
     "execution_count": 59,
     "metadata": {},
     "output_type": "execute_result"
    }
   ],
   "source": [
    "one_to_nine = [1, 2, 3, 4, 5, 6, 7, 8, 9]\n",
    "print(one_to_nine)\n",
    "\n",
    "print(\"Sum of the array\")\n",
    "#The operation is infered from the default parameter of add_or_subtract\n",
    "reduce(one_to_nine, add_or_subtract)"
   ]
  },
  {
   "cell_type": "markdown",
   "metadata": {
    "id": "8tiErQ4PzdFH"
   },
   "source": [
    "### Lambde\n",
    "\n",
    "Funkcija se može definirati anonimno"
   ]
  },
  {
   "cell_type": "code",
   "execution_count": null,
   "metadata": {
    "id": "a8bWni3hzadd",
    "outputId": "595061cb-2243-4cb0-ac98-d8038fb90ca1"
   },
   "outputs": [
    {
     "name": "stdout",
     "output_type": "stream",
     "text": [
      "Product of the array\n"
     ]
    },
    {
     "data": {
      "text/plain": [
       "362880"
      ]
     },
     "execution_count": 60,
     "metadata": {},
     "output_type": "execute_result"
    }
   ],
   "source": [
    "print(\"Product of the array\")\n",
    "reduce(one_to_nine, lambda x, y : x * y)"
   ]
  },
  {
   "cell_type": "markdown",
   "metadata": {
    "id": "8rBsR8TgzkhS"
   },
   "source": [
    "### Closures\n",
    "\n",
    "Funkcija može vratiti drugu funkciju s određenim ponašanjem ovisno o argumentima"
   ]
  },
  {
   "cell_type": "code",
   "execution_count": null,
   "metadata": {
    "id": "NQ9l5wxZm4SV"
   },
   "outputs": [],
   "source": [
    "def get_loss(op_reduce, op_foreach):\n",
    "\n",
    "    def loss(a, b):\n",
    "        c = []\n",
    "        for av, bv in zip(a, b):\n",
    "            c.append(op_foreach(av, bv))\n",
    "        return op_reduce(c)\n",
    "\n",
    "    return loss"
   ]
  },
  {
   "cell_type": "markdown",
   "metadata": {
    "id": "-L5B35yEz4Ic"
   },
   "source": [
    "Ova funkcija može pomoći u definiranju srednje kvadratne pogreške"
   ]
  },
  {
   "cell_type": "code",
   "execution_count": null,
   "metadata": {
    "id": "w4a2_Al4z4qW"
   },
   "outputs": [],
   "source": [
    "mse_loss = get_loss(lambda x : sum(x)/len(x), lambda a, b : (a - b) ** 2)"
   ]
  },
  {
   "cell_type": "markdown",
   "metadata": {
    "id": "jXVJNuY40ARh"
   },
   "source": [
    "Ili srednje apsolutne pogreške"
   ]
  },
  {
   "cell_type": "code",
   "execution_count": null,
   "metadata": {
    "id": "MYcFxRq70A4K"
   },
   "outputs": [],
   "source": [
    "mae_loss = get_loss(lambda x : sum(x)/len(x), lambda a, b : abs(a - b))"
   ]
  },
  {
   "cell_type": "markdown",
   "metadata": {
    "id": "FDKP5V-c0GY8"
   },
   "source": [
    "Možemo provjeriti radi li kao što je predviđeno"
   ]
  },
  {
   "cell_type": "code",
   "execution_count": null,
   "metadata": {
    "id": "oYIyTRmN0G6r",
    "outputId": "7199569f-001b-4700-d3f9-f0ae43f8de77"
   },
   "outputs": [
    {
     "name": "stdout",
     "output_type": "stream",
     "text": [
      "Two lists:\n",
      " [0, 1, 1, 3, 0, 2, 3] \n",
      " [1, 1, 2, 0, 0, 2, 3]\n",
      "MSE Loss: 1.5714285714285714\n",
      "MAE Loss: 0.7142857142857143\n"
     ]
    }
   ],
   "source": [
    "list1 = [0, 1, 1, 3, 0, 2, 3]\n",
    "list2 = [1, 1, 2, 0, 0, 2, 3]\n",
    "\n",
    "list_mse = mse_loss(list1, list2)\n",
    "list_mae = mae_loss(list1, list2)\n",
    "\n",
    "print(\"Two lists:\\n\", list1, \"\\n\", list2)\n",
    "print(\"MSE Loss: {}\\nMAE Loss: {}\".format(list_mse, list_mae))"
   ]
  },
  {
   "cell_type": "markdown",
   "metadata": {
    "id": "LoPGG5zNAjoU"
   },
   "source": [
    "## Exception"
   ]
  },
  {
   "cell_type": "code",
   "execution_count": null,
   "metadata": {
    "id": "eYsGH9tQAlHr",
    "outputId": "086c6f0f-4855-45fb-b56b-6f6d94aaf303"
   },
   "outputs": [
    {
     "ename": "Exception",
     "evalue": "",
     "output_type": "error",
     "traceback": [
      "\u001b[1;31m---------------------------------------------------------------------------\u001b[0m",
      "\u001b[1;31mException\u001b[0m                                 Traceback (most recent call last)",
      "Cell \u001b[1;32mIn[67], line 2\u001b[0m\n\u001b[0;32m      1\u001b[0m \u001b[38;5;66;03m# Throw exception\u001b[39;00m\n\u001b[1;32m----> 2\u001b[0m \u001b[38;5;28;01mraise\u001b[39;00m \u001b[38;5;167;01mException\u001b[39;00m\n\u001b[0;32m      4\u001b[0m \u001b[38;5;28;01mraise\u001b[39;00m \u001b[38;5;167;01mException\u001b[39;00m(\u001b[38;5;124m\"\u001b[39m\u001b[38;5;124mSomething went wrong\u001b[39m\u001b[38;5;124m\"\u001b[39m)\n\u001b[0;32m      5\u001b[0m \u001b[38;5;28;01mraise\u001b[39;00m \u001b[38;5;167;01mValueError\u001b[39;00m\n",
      "\u001b[1;31mException\u001b[0m: "
     ]
    }
   ],
   "source": [
    "# Throw exception\n",
    "raise Exception\n",
    "\n",
    "raise Exception(\"Something went wrong\")\n",
    "raise ValueError\n",
    "raise IndexError\n",
    "raise StopIteration"
   ]
  },
  {
   "cell_type": "code",
   "execution_count": null,
   "metadata": {
    "id": "IwpCXA3nA3Ap",
    "outputId": "52ccb95a-2c47-4689-c6c6-c1098d8e9ca5"
   },
   "outputs": [
    {
     "name": "stdout",
     "output_type": "stream",
     "text": [
      "Do something else\n",
      "This part runs always. It is useful for closing files or releasing other resources\n"
     ]
    }
   ],
   "source": [
    "# Catch exceptions\n",
    "try:\n",
    "    raise ValueError\n",
    "except ValueError:\n",
    "    print(\"Do something else\")\n",
    "finally:\n",
    "    print(\"This part runs always. It is useful for closing files or \"\n",
    "          \"releasing other resources\")"
   ]
  },
  {
   "cell_type": "markdown",
   "metadata": {
    "id": "p1cOGDXHCR-O"
   },
   "source": [
    "## Klase"
   ]
  },
  {
   "cell_type": "markdown",
   "metadata": {
    "id": "r-PruhWd02K0"
   },
   "source": [
    "Definicija klase"
   ]
  },
  {
   "cell_type": "code",
   "execution_count": null,
   "metadata": {
    "id": "IRXa51OfCPEk"
   },
   "outputs": [],
   "source": [
    "class Shape:\n",
    "    pass"
   ]
  },
  {
   "cell_type": "markdown",
   "metadata": {
    "id": "y93ArCva06GI"
   },
   "source": [
    "`shape` je objekt klase `Shape`"
   ]
  },
  {
   "cell_type": "code",
   "execution_count": null,
   "metadata": {
    "id": "0m2SgTiS06tB"
   },
   "outputs": [],
   "source": [
    "shape = Shape()"
   ]
  },
  {
   "cell_type": "markdown",
   "metadata": {
    "id": "F6zvhV8H1BVA"
   },
   "source": [
    "U legacy python-u se koristio način pisanja\n",
    "```python\n",
    "class Shape(object):\n",
    "```\n",
    "Ovo nije više potrebno\n",
    "osim ako ne očekujete da će netko pokrenuti vaš kod u legacy okruženju"
   ]
  },
  {
   "cell_type": "markdown",
   "metadata": {
    "id": "C-Kvdhg41Ju3"
   },
   "source": [
    "Malo više o definiranju klasa"
   ]
  },
  {
   "cell_type": "code",
   "execution_count": null,
   "metadata": {
    "id": "1tCXVcPAB4YQ",
    "outputId": "e6a9a158-f9ba-4b87-8152-1438743c5163"
   },
   "outputs": [
    {
     "name": "stdout",
     "output_type": "stream",
     "text": [
      "UUPZ\n"
     ]
    }
   ],
   "source": [
    "class Shape:\n",
    "    class_field = 9\n",
    "\n",
    "    def __init__(self, name):\n",
    "        self.name = name\n",
    "        self.value = 42\n",
    "\n",
    "    def method(self, a):\n",
    "        return a * 2 + self.value\n",
    "\n",
    "shape = Shape(\"UUPZ\")\n",
    "print(shape.name)"
   ]
  },
  {
   "cell_type": "markdown",
   "metadata": {
    "id": "dKU0asYuazOF"
   },
   "source": [
    "## Imports\n",
    "\n",
    "Dodavanje novih paketa u python vrlo je jednostavno i mnogi su paketi dostupni. Ako želite neku biblioteku, velika je vjerojatnost da ju je netko drugi već napisao.\n",
    "\n",
    "Općenito, to izgledao ovako:"
   ]
  },
  {
   "cell_type": "code",
   "execution_count": null,
   "metadata": {
    "id": "VFeYVIqocjsm",
    "outputId": "ef51a2ca-6da1-44bd-eddc-96fbfe4473cd"
   },
   "outputs": [
    {
     "data": {
      "text/plain": [
       "1728564866.2779088"
      ]
     },
     "execution_count": 72,
     "metadata": {},
     "output_type": "execute_result"
    }
   ],
   "source": [
    "import time\n",
    "\n",
    "time.time()"
   ]
  },
  {
   "cell_type": "markdown",
   "metadata": {
    "id": "0pNMsOuJctzb"
   },
   "source": [
    "Možete odrediti koje dijelove paketa želite uvesti"
   ]
  },
  {
   "cell_type": "code",
   "execution_count": null,
   "metadata": {
    "id": "jfy8OQqwcr0A",
    "outputId": "46ae06bf-7f96-4da6-e90e-7ec27a617d83"
   },
   "outputs": [
    {
     "name": "stdout",
     "output_type": "stream",
     "text": [
      "1728564870.3610134\n",
      "1728564872.361957\n"
     ]
    }
   ],
   "source": [
    "from time import time, sleep\n",
    "\n",
    "print(time())\n",
    "sleep(2)\n",
    "print(time())"
   ]
  },
  {
   "cell_type": "markdown",
   "metadata": {
    "id": "mSBeBMM-Vi-z"
   },
   "source": [
    "## Druga zanimljiva svojstva"
   ]
  },
  {
   "cell_type": "markdown",
   "metadata": {
    "id": "LrQ4hw8KVliz"
   },
   "source": [
    "Multiple assignment"
   ]
  },
  {
   "cell_type": "code",
   "execution_count": null,
   "metadata": {
    "id": "xq5p8zc9VqW8"
   },
   "outputs": [],
   "source": [
    "a, b = 10, 11"
   ]
  },
  {
   "cell_type": "markdown",
   "metadata": {
    "id": "8M8zrRNkVuHM"
   },
   "source": [
    "It works with any kind of list-like objects!"
   ]
  },
  {
   "cell_type": "code",
   "execution_count": null,
   "metadata": {
    "id": "bKPgc-E2Vxfp"
   },
   "outputs": [],
   "source": [
    "a, b = [10, 11]"
   ]
  },
  {
   "cell_type": "markdown",
   "metadata": {
    "id": "rXH3h0TVVz8r"
   },
   "source": [
    "Starred assignment expressions"
   ]
  },
  {
   "cell_type": "code",
   "execution_count": null,
   "metadata": {
    "id": "ydvlwtxOV819",
    "outputId": "a26d2255-0ce3-4270-b61e-6407bd94a88a"
   },
   "outputs": [
    {
     "name": "stdout",
     "output_type": "stream",
     "text": [
      "[2, 3, 4]\n"
     ]
    }
   ],
   "source": [
    "a, *b = [1, 2, 3, 4]\n",
    "print(b)"
   ]
  },
  {
   "cell_type": "markdown",
   "metadata": {
    "id": "FZ4l0DS_WB5-"
   },
   "source": [
    "Radi za prefikse i sufikse"
   ]
  },
  {
   "cell_type": "code",
   "execution_count": null,
   "metadata": {
    "id": "eX2_V2CRWHLh",
    "outputId": "f886ac94-b292-403d-c9d3-df75be86d3ab"
   },
   "outputs": [
    {
     "name": "stdout",
     "output_type": "stream",
     "text": [
      "[1, 2]\n"
     ]
    }
   ],
   "source": [
    "*a, b, c = [1, 2, 3, 4]\n",
    "print(a)"
   ]
  },
  {
   "cell_type": "markdown",
   "metadata": {
    "id": "XHmrP9ayaG6X"
   },
   "source": [
    "# Vježbe"
   ]
  },
  {
   "cell_type": "markdown",
   "metadata": {
    "id": "cUE9SvlVdc4_"
   },
   "source": [
    "## Vježba 1\n",
    "\n",
    "Napišite funkciju koja uzorkuje uniformni slučajni broj od `a` do `b`.\n",
    "\n",
    "Koristite funkciju `random.random` iz biblioteke `random`. Dokumentaciju možete pogledati [ovdje](https://docs.python.org/3.7/library/random.html)"
   ]
  },
  {
   "cell_type": "code",
   "execution_count": 19,
   "metadata": {
    "colab": {
     "base_uri": "https://localhost:8080/"
    },
    "executionInfo": {
     "elapsed": 3,
     "status": "ok",
     "timestamp": 1728670106410,
     "user": {
      "displayName": "Amadeo Pavazza",
      "userId": "08243147996080666815"
     },
     "user_tz": -120
    },
    "id": "Jy7ND3SRkeCj",
    "outputId": "d187b0cd-e430-4a0d-d28b-b072a16aa417"
   },
   "outputs": [
    {
     "data": {
      "text/plain": [
       "3.314115641066037"
      ]
     },
     "execution_count": 19,
     "metadata": {},
     "output_type": "execute_result"
    }
   ],
   "source": [
    "import random\n",
    "\n",
    "def sample_one(*, start, end):\n",
    "    return start + (end - start) * random.random()\n",
    "\n",
    "sample_one(start=2,end=5)"
   ]
  },
  {
   "cell_type": "markdown",
   "metadata": {
    "id": "p7CIN4iWr3tx"
   },
   "source": [
    "## Vježba 2\n",
    "\n",
    "Napišite funkciju koja kreira listu duljine `n` sampleova kao što je to navedeno u Vježbi 1"
   ]
  },
  {
   "cell_type": "code",
   "execution_count": 22,
   "metadata": {
    "colab": {
     "base_uri": "https://localhost:8080/"
    },
    "executionInfo": {
     "elapsed": 6,
     "status": "ok",
     "timestamp": 1728670112519,
     "user": {
      "displayName": "Amadeo Pavazza",
      "userId": "08243147996080666815"
     },
     "user_tz": -120
    },
    "id": "_UFZLC4ssAm1",
    "outputId": "9002c3bd-02e5-425a-b034-10d628e2b297"
   },
   "outputs": [
    {
     "data": {
      "text/plain": [
       "[2.3405589883969045,\n",
       " 4.994212019470631,\n",
       " 3.737137782431545,\n",
       " 8.161746249848118,\n",
       " 4.5285815122381265,\n",
       " 5.666812838611483,\n",
       " 2.5856068303754673]"
      ]
     },
     "execution_count": 22,
     "metadata": {},
     "output_type": "execute_result"
    }
   ],
   "source": [
    "def sample_many(*, start, end, n):\n",
    "    return [sample_one(start=start, end=end) for _ in range(n)]\n",
    "\n",
    "sample_many(start=2, end=10, n=7)"
   ]
  },
  {
   "cell_type": "markdown",
   "metadata": {
    "id": "bDNxuKNHsI-L"
   },
   "source": [
    "## Vježba 3\n",
    "\n",
    "Napišite funkciju koja računa prosjek popisa brojeva."
   ]
  },
  {
   "cell_type": "code",
   "execution_count": 23,
   "metadata": {
    "colab": {
     "base_uri": "https://localhost:8080/"
    },
    "executionInfo": {
     "elapsed": 328,
     "status": "ok",
     "timestamp": 1728670115567,
     "user": {
      "displayName": "Amadeo Pavazza",
      "userId": "08243147996080666815"
     },
     "user_tz": -120
    },
    "id": "vhsHU8qXsH50",
    "outputId": "617a375d-2d00-4dc3-d41e-dc8fb1e8d7e4"
   },
   "outputs": [
    {
     "data": {
      "text/plain": [
       "2.0"
      ]
     },
     "execution_count": 23,
     "metadata": {},
     "output_type": "execute_result"
    }
   ],
   "source": [
    "def average(array):\n",
    "    return sum(array)/len(array)\n",
    "\n",
    "average([1,2,3])"
   ]
  },
  {
   "cell_type": "markdown",
   "metadata": {
    "id": "4RS0grGJsUsK"
   },
   "source": [
    "## Vježba 4\n",
    "\n",
    "Napišite funkciju koja kreira `m` lista kao što je navedeno u Vježbi 2 te računa prosjek svake liste"
   ]
  },
  {
   "cell_type": "code",
   "execution_count": 26,
   "metadata": {
    "colab": {
     "base_uri": "https://localhost:8080/"
    },
    "executionInfo": {
     "elapsed": 2,
     "status": "ok",
     "timestamp": 1728670121674,
     "user": {
      "displayName": "Amadeo Pavazza",
      "userId": "08243147996080666815"
     },
     "user_tz": -120
    },
    "id": "CCl07aGwsTqY",
    "outputId": "540c4735-e721-4157-cd14-999e9077413f"
   },
   "outputs": [
    {
     "data": {
      "text/plain": [
       "[5.8997033464622,\n",
       " 5.60719417006126,\n",
       " 4.916946891164602,\n",
       " 4.36693450962811,\n",
       " 6.195505681073442,\n",
       " 5.673528543381035,\n",
       " 6.7113198026996495,\n",
       " 4.254736278447572,\n",
       " 5.872275481698762,\n",
       " 6.39036454404461]"
      ]
     },
     "execution_count": 26,
     "metadata": {},
     "output_type": "execute_result"
    }
   ],
   "source": [
    "def create_population(*, start, end, n, size):\n",
    "    return [average(sample_many(start=start,end=end,n=n)) for _ in range(size)]\n",
    "\n",
    "create_population(start=2, end=10, n= 8, size=10)"
   ]
  },
  {
   "cell_type": "markdown",
   "metadata": {
    "id": "sVmgGcO1uYPH"
   },
   "source": [
    "## Vježba 5"
   ]
  },
  {
   "cell_type": "markdown",
   "metadata": {
    "id": "u1pZtZ18tr--"
   },
   "source": [
    "Napravite listu prosjeka brojeva između 1.0 i 2.0. Neka je svaka lista veličine 10. Mijenjajte broj prosjeka između 100 do 10000. Prilagodite broj binova u histogramu za najbolju vizualizaciju.\n",
    "\n",
    "Koristite `matplotlib` biblioteku kao što je navedeno:\n",
    "```python\n",
    "from matplotlib import pyplot as plt\n",
    "\n",
    "plt.figure()\n",
    "plt.hist(array, bins=50)\n",
    "plt.show()\n",
    "```"
   ]
  },
  {
   "cell_type": "code",
   "execution_count": 4,
   "metadata": {
    "colab": {
     "base_uri": "https://localhost:8080/"
    },
    "executionInfo": {
     "elapsed": 3521,
     "status": "ok",
     "timestamp": 1728669424255,
     "user": {
      "displayName": "Amadeo Pavazza",
      "userId": "08243147996080666815"
     },
     "user_tz": -120
    },
    "id": "yRU1JTjNuYPH",
    "outputId": "68fc57cb-0006-4566-d284-51751ca18c0b"
   },
   "outputs": [
    {
     "name": "stdout",
     "output_type": "stream",
     "text": [
      "Requirement already satisfied: matplotlib in /usr/local/lib/python3.10/dist-packages (3.7.1)\n",
      "Requirement already satisfied: contourpy>=1.0.1 in /usr/local/lib/python3.10/dist-packages (from matplotlib) (1.3.0)\n",
      "Requirement already satisfied: cycler>=0.10 in /usr/local/lib/python3.10/dist-packages (from matplotlib) (0.12.1)\n",
      "Requirement already satisfied: fonttools>=4.22.0 in /usr/local/lib/python3.10/dist-packages (from matplotlib) (4.54.1)\n",
      "Requirement already satisfied: kiwisolver>=1.0.1 in /usr/local/lib/python3.10/dist-packages (from matplotlib) (1.4.7)\n",
      "Requirement already satisfied: numpy>=1.20 in /usr/local/lib/python3.10/dist-packages (from matplotlib) (1.26.4)\n",
      "Requirement already satisfied: packaging>=20.0 in /usr/local/lib/python3.10/dist-packages (from matplotlib) (24.1)\n",
      "Requirement already satisfied: pillow>=6.2.0 in /usr/local/lib/python3.10/dist-packages (from matplotlib) (10.4.0)\n",
      "Requirement already satisfied: pyparsing>=2.3.1 in /usr/local/lib/python3.10/dist-packages (from matplotlib) (3.1.4)\n",
      "Requirement already satisfied: python-dateutil>=2.7 in /usr/local/lib/python3.10/dist-packages (from matplotlib) (2.8.2)\n",
      "Requirement already satisfied: six>=1.5 in /usr/local/lib/python3.10/dist-packages (from python-dateutil>=2.7->matplotlib) (1.16.0)\n"
     ]
    }
   ],
   "source": [
    "pip install matplotlib"
   ]
  },
  {
   "cell_type": "code",
   "execution_count": 27,
   "metadata": {
    "colab": {
     "base_uri": "https://localhost:8080/",
     "height": 1000
    },
    "executionInfo": {
     "elapsed": 1688,
     "status": "ok",
     "timestamp": 1728670128261,
     "user": {
      "displayName": "Amadeo Pavazza",
      "userId": "08243147996080666815"
     },
     "user_tz": -120
    },
    "id": "3p1R9T9YtprZ",
    "outputId": "cb07d3dc-a212-4768-f664-5d2ca43fc790"
   },
   "outputs": [
    {
     "data": {
      "text/plain": [
       "(array([ 1.,  0.,  0.,  0.,  0.,  0.,  0.,  0.,  0.,  0.,  0.,  0.,  0.,\n",
       "         0.,  0.,  1.,  0.,  0.,  0.,  1.,  0.,  1.,  0.,  0.,  0.,  0.,\n",
       "         0.,  0.,  0.,  0.,  1.,  0.,  0.,  0.,  0.,  2.,  0.,  0.,  0.,\n",
       "         0.,  1.,  0.,  0.,  1.,  0.,  0.,  0.,  0.,  1.,  2.,  0.,  2.,\n",
       "         0.,  1.,  2.,  2.,  1.,  4.,  0.,  0.,  1.,  2.,  1.,  0.,  1.,\n",
       "         0.,  1.,  1.,  1.,  4.,  2.,  2.,  2.,  2.,  1.,  2.,  1.,  5.,\n",
       "         3.,  0.,  0.,  2.,  3.,  5.,  0.,  2.,  3.,  4.,  1.,  1.,  3.,\n",
       "         3.,  3.,  6.,  0.,  4.,  3.,  3.,  5.,  5.,  3.,  7.,  4.,  5.,\n",
       "         4.,  6.,  6.,  6.,  5.,  8.,  6.,  7., 14., 10., 10.,  7.,  6.,\n",
       "         7.,  6.,  6., 12.,  7.,  7.,  6., 11.,  6., 10., 19., 11., 16.,\n",
       "        10.,  8., 13., 10., 10., 10., 12.,  7., 13.,  9., 10., 12., 12.,\n",
       "        14., 18., 18., 10., 15., 20., 19., 13., 17., 18., 19., 18., 29.,\n",
       "        21., 13., 17., 20., 19., 18., 31., 20., 22., 21., 21., 22., 21.,\n",
       "        30., 28., 20., 28., 18., 22., 28., 34., 18., 29., 41., 26., 38.,\n",
       "        26., 34., 28., 30., 41., 33., 27., 24., 36., 42., 24., 32., 28.,\n",
       "        35., 42., 29., 33., 32., 50., 42., 45., 43., 49., 37., 56., 44.,\n",
       "        41., 47., 45., 36., 39., 55., 41., 39., 34., 51., 46., 45., 55.,\n",
       "        48., 46., 39., 46., 52., 40., 48., 46., 38., 65., 64., 49., 60.,\n",
       "        51., 33., 46., 55., 61., 57., 46., 55., 50., 57., 47., 45., 34.,\n",
       "        42., 49., 51., 46., 45., 57., 47., 51., 45., 59., 42., 50., 60.,\n",
       "        44., 46., 55., 60., 49., 56., 49., 48., 58., 70., 55., 58., 45.,\n",
       "        58., 54., 53., 61., 52., 60., 58., 55., 54., 51., 52., 61., 39.,\n",
       "        65., 49., 39., 47., 46., 41., 60., 47., 61., 40., 53., 44., 49.,\n",
       "        45., 49., 54., 47., 52., 39., 46., 54., 53., 38., 52., 40., 41.,\n",
       "        44., 49., 40., 36., 47., 37., 40., 41., 47., 39., 38., 37., 38.,\n",
       "        54., 36., 28., 35., 47., 25., 33., 39., 43., 27., 37., 40., 41.,\n",
       "        33., 33., 29., 24., 25., 27., 34., 45., 32., 30., 24., 19., 25.,\n",
       "        40., 27., 29., 21., 23., 20., 22., 26., 24., 29., 26., 15., 23.,\n",
       "        16., 28., 22., 14., 17., 21., 25., 20., 23., 16.,  7., 19., 12.,\n",
       "        16., 11., 19., 20., 14., 15., 16., 19.,  9., 15., 14., 14., 19.,\n",
       "        10., 16., 12.,  7.,  6., 11., 13., 13., 17.,  8.,  8., 12.,  5.,\n",
       "         8.,  9.,  8.,  9.,  7.,  8., 10., 12.,  8.,  7.,  9.,  5.,  4.,\n",
       "         9.,  8.,  6.,  2., 10.,  4.,  1.,  9.,  6.,  5.,  5.,  4.,  1.,\n",
       "         4.,  3.,  0.,  7.,  2.,  1.,  2.,  2.,  4.,  3.,  2.,  5.,  1.,\n",
       "         3.,  1.,  1.,  2.,  3.,  0.,  2.,  2.,  2.,  1.,  0.,  3.,  2.,\n",
       "         4.,  1.,  0.,  3.,  0.,  2.,  3.,  1.,  1.,  0.,  0.,  0.,  4.,\n",
       "         1.,  1.,  2.,  1.,  1.,  1.,  0.,  2.,  0.,  0.,  0.,  0.,  0.,\n",
       "         1.,  1.,  0.,  2.,  0.,  1.,  0.,  0.,  0.,  0.,  0.,  1.,  0.,\n",
       "         0.,  1.,  0.,  0.,  0.,  1.]),\n",
       " array([1.17112157, 1.17236755, 1.17361352, 1.1748595 , 1.17610548,\n",
       "        1.17735146, 1.17859744, 1.17984341, 1.18108939, 1.18233537,\n",
       "        1.18358135, 1.18482733, 1.18607331, 1.18731928, 1.18856526,\n",
       "        1.18981124, 1.19105722, 1.1923032 , 1.19354917, 1.19479515,\n",
       "        1.19604113, 1.19728711, 1.19853309, 1.19977906, 1.20102504,\n",
       "        1.20227102, 1.203517  , 1.20476298, 1.20600896, 1.20725493,\n",
       "        1.20850091, 1.20974689, 1.21099287, 1.21223885, 1.21348482,\n",
       "        1.2147308 , 1.21597678, 1.21722276, 1.21846874, 1.21971471,\n",
       "        1.22096069, 1.22220667, 1.22345265, 1.22469863, 1.2259446 ,\n",
       "        1.22719058, 1.22843656, 1.22968254, 1.23092852, 1.2321745 ,\n",
       "        1.23342047, 1.23466645, 1.23591243, 1.23715841, 1.23840439,\n",
       "        1.23965036, 1.24089634, 1.24214232, 1.2433883 , 1.24463428,\n",
       "        1.24588025, 1.24712623, 1.24837221, 1.24961819, 1.25086417,\n",
       "        1.25211014, 1.25335612, 1.2546021 , 1.25584808, 1.25709406,\n",
       "        1.25834004, 1.25958601, 1.26083199, 1.26207797, 1.26332395,\n",
       "        1.26456993, 1.2658159 , 1.26706188, 1.26830786, 1.26955384,\n",
       "        1.27079982, 1.27204579, 1.27329177, 1.27453775, 1.27578373,\n",
       "        1.27702971, 1.27827569, 1.27952166, 1.28076764, 1.28201362,\n",
       "        1.2832596 , 1.28450558, 1.28575155, 1.28699753, 1.28824351,\n",
       "        1.28948949, 1.29073547, 1.29198144, 1.29322742, 1.2944734 ,\n",
       "        1.29571938, 1.29696536, 1.29821133, 1.29945731, 1.30070329,\n",
       "        1.30194927, 1.30319525, 1.30444123, 1.3056872 , 1.30693318,\n",
       "        1.30817916, 1.30942514, 1.31067112, 1.31191709, 1.31316307,\n",
       "        1.31440905, 1.31565503, 1.31690101, 1.31814698, 1.31939296,\n",
       "        1.32063894, 1.32188492, 1.3231309 , 1.32437688, 1.32562285,\n",
       "        1.32686883, 1.32811481, 1.32936079, 1.33060677, 1.33185274,\n",
       "        1.33309872, 1.3343447 , 1.33559068, 1.33683666, 1.33808263,\n",
       "        1.33932861, 1.34057459, 1.34182057, 1.34306655, 1.34431252,\n",
       "        1.3455585 , 1.34680448, 1.34805046, 1.34929644, 1.35054242,\n",
       "        1.35178839, 1.35303437, 1.35428035, 1.35552633, 1.35677231,\n",
       "        1.35801828, 1.35926426, 1.36051024, 1.36175622, 1.3630022 ,\n",
       "        1.36424817, 1.36549415, 1.36674013, 1.36798611, 1.36923209,\n",
       "        1.37047807, 1.37172404, 1.37297002, 1.374216  , 1.37546198,\n",
       "        1.37670796, 1.37795393, 1.37919991, 1.38044589, 1.38169187,\n",
       "        1.38293785, 1.38418382, 1.3854298 , 1.38667578, 1.38792176,\n",
       "        1.38916774, 1.39041371, 1.39165969, 1.39290567, 1.39415165,\n",
       "        1.39539763, 1.39664361, 1.39788958, 1.39913556, 1.40038154,\n",
       "        1.40162752, 1.4028735 , 1.40411947, 1.40536545, 1.40661143,\n",
       "        1.40785741, 1.40910339, 1.41034936, 1.41159534, 1.41284132,\n",
       "        1.4140873 , 1.41533328, 1.41657926, 1.41782523, 1.41907121,\n",
       "        1.42031719, 1.42156317, 1.42280915, 1.42405512, 1.4253011 ,\n",
       "        1.42654708, 1.42779306, 1.42903904, 1.43028501, 1.43153099,\n",
       "        1.43277697, 1.43402295, 1.43526893, 1.4365149 , 1.43776088,\n",
       "        1.43900686, 1.44025284, 1.44149882, 1.4427448 , 1.44399077,\n",
       "        1.44523675, 1.44648273, 1.44772871, 1.44897469, 1.45022066,\n",
       "        1.45146664, 1.45271262, 1.4539586 , 1.45520458, 1.45645055,\n",
       "        1.45769653, 1.45894251, 1.46018849, 1.46143447, 1.46268044,\n",
       "        1.46392642, 1.4651724 , 1.46641838, 1.46766436, 1.46891034,\n",
       "        1.47015631, 1.47140229, 1.47264827, 1.47389425, 1.47514023,\n",
       "        1.4763862 , 1.47763218, 1.47887816, 1.48012414, 1.48137012,\n",
       "        1.48261609, 1.48386207, 1.48510805, 1.48635403, 1.48760001,\n",
       "        1.48884599, 1.49009196, 1.49133794, 1.49258392, 1.4938299 ,\n",
       "        1.49507588, 1.49632185, 1.49756783, 1.49881381, 1.50005979,\n",
       "        1.50130577, 1.50255174, 1.50379772, 1.5050437 , 1.50628968,\n",
       "        1.50753566, 1.50878163, 1.51002761, 1.51127359, 1.51251957,\n",
       "        1.51376555, 1.51501153, 1.5162575 , 1.51750348, 1.51874946,\n",
       "        1.51999544, 1.52124142, 1.52248739, 1.52373337, 1.52497935,\n",
       "        1.52622533, 1.52747131, 1.52871728, 1.52996326, 1.53120924,\n",
       "        1.53245522, 1.5337012 , 1.53494718, 1.53619315, 1.53743913,\n",
       "        1.53868511, 1.53993109, 1.54117707, 1.54242304, 1.54366902,\n",
       "        1.544915  , 1.54616098, 1.54740696, 1.54865293, 1.54989891,\n",
       "        1.55114489, 1.55239087, 1.55363685, 1.55488282, 1.5561288 ,\n",
       "        1.55737478, 1.55862076, 1.55986674, 1.56111272, 1.56235869,\n",
       "        1.56360467, 1.56485065, 1.56609663, 1.56734261, 1.56858858,\n",
       "        1.56983456, 1.57108054, 1.57232652, 1.5735725 , 1.57481847,\n",
       "        1.57606445, 1.57731043, 1.57855641, 1.57980239, 1.58104837,\n",
       "        1.58229434, 1.58354032, 1.5847863 , 1.58603228, 1.58727826,\n",
       "        1.58852423, 1.58977021, 1.59101619, 1.59226217, 1.59350815,\n",
       "        1.59475412, 1.5960001 , 1.59724608, 1.59849206, 1.59973804,\n",
       "        1.60098401, 1.60222999, 1.60347597, 1.60472195, 1.60596793,\n",
       "        1.60721391, 1.60845988, 1.60970586, 1.61095184, 1.61219782,\n",
       "        1.6134438 , 1.61468977, 1.61593575, 1.61718173, 1.61842771,\n",
       "        1.61967369, 1.62091966, 1.62216564, 1.62341162, 1.6246576 ,\n",
       "        1.62590358, 1.62714956, 1.62839553, 1.62964151, 1.63088749,\n",
       "        1.63213347, 1.63337945, 1.63462542, 1.6358714 , 1.63711738,\n",
       "        1.63836336, 1.63960934, 1.64085531, 1.64210129, 1.64334727,\n",
       "        1.64459325, 1.64583923, 1.6470852 , 1.64833118, 1.64957716,\n",
       "        1.65082314, 1.65206912, 1.6533151 , 1.65456107, 1.65580705,\n",
       "        1.65705303, 1.65829901, 1.65954499, 1.66079096, 1.66203694,\n",
       "        1.66328292, 1.6645289 , 1.66577488, 1.66702085, 1.66826683,\n",
       "        1.66951281, 1.67075879, 1.67200477, 1.67325074, 1.67449672,\n",
       "        1.6757427 , 1.67698868, 1.67823466, 1.67948064, 1.68072661,\n",
       "        1.68197259, 1.68321857, 1.68446455, 1.68571053, 1.6869565 ,\n",
       "        1.68820248, 1.68944846, 1.69069444, 1.69194042, 1.69318639,\n",
       "        1.69443237, 1.69567835, 1.69692433, 1.69817031, 1.69941629,\n",
       "        1.70066226, 1.70190824, 1.70315422, 1.7044002 , 1.70564618,\n",
       "        1.70689215, 1.70813813, 1.70938411, 1.71063009, 1.71187607,\n",
       "        1.71312204, 1.71436802, 1.715614  , 1.71685998, 1.71810596,\n",
       "        1.71935193, 1.72059791, 1.72184389, 1.72308987, 1.72433585,\n",
       "        1.72558183, 1.7268278 , 1.72807378, 1.72931976, 1.73056574,\n",
       "        1.73181172, 1.73305769, 1.73430367, 1.73554965, 1.73679563,\n",
       "        1.73804161, 1.73928758, 1.74053356, 1.74177954, 1.74302552,\n",
       "        1.7442715 , 1.74551748, 1.74676345, 1.74800943, 1.74925541,\n",
       "        1.75050139, 1.75174737, 1.75299334, 1.75423932, 1.7554853 ,\n",
       "        1.75673128, 1.75797726, 1.75922323, 1.76046921, 1.76171519,\n",
       "        1.76296117, 1.76420715, 1.76545312, 1.7666991 , 1.76794508,\n",
       "        1.76919106, 1.77043704, 1.77168302, 1.77292899, 1.77417497,\n",
       "        1.77542095, 1.77666693, 1.77791291, 1.77915888, 1.78040486,\n",
       "        1.78165084, 1.78289682, 1.7841428 , 1.78538877, 1.78663475,\n",
       "        1.78788073, 1.78912671, 1.79037269, 1.79161867, 1.79286464,\n",
       "        1.79411062]),\n",
       " <BarContainer object of 500 artists>)"
      ]
     },
     "execution_count": 27,
     "metadata": {},
     "output_type": "execute_result"
    },
    {
     "data": {
      "image/png": "[encoded data removed]",
      "text/plain": [
       "<Figure size 640x480 with 1 Axes>"
      ]
     },
     "metadata": {},
     "output_type": "display_data"
    }
   ],
   "source": [
    "from matplotlib import pyplot as plt\n",
    "\n",
    "array = create_population(start=1, end=2, n=10, size=10000)\n",
    "\n",
    "plt.figure()\n",
    "plt.hist(array, bins=500)\n",
    "#plt.show()"
   ]
  }
 ],
 "metadata": {
  "colab": {
   "provenance": []
  },
  "kernelspec": {
   "display_name": "Python 3",
   "language": "python",
   "name": "python3"
  },
  "language_info": {
   "codemirror_mode": {
    "name": "ipython",
    "version": 3
   },
   "file_extension": ".py",
   "mimetype": "text/x-python",
   "name": "python",
   "nbconvert_exporter": "python",
   "pygments_lexer": "ipython3",
   "version": "3.11.9"
  }
 },
 "nbformat": 4,
 "nbformat_minor": 0
}
